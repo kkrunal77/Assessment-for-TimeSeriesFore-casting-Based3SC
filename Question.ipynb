{
 "cells": [
  {
   "cell_type": "code",
   "execution_count": null,
   "id": "1d2f6b57-2d60-4d7a-b21b-a3b9982635d0",
   "metadata": {},
   "outputs": [],
   "source": [
    "df = pd.DataFrame(np.random.choice([2,np.nan], (20, 5), p=[0.2, 0.8]), columns=list('abcde'))\n",
    "\n",
    "How to drop column where missing values are above a threshold (may be 80% of the data) in pandas?"
   ]
  },
  {
   "cell_type": "code",
   "execution_count": 4,
   "id": "6a55985e-7deb-4e21-a8cc-49015874e472",
   "metadata": {},
   "outputs": [],
   "source": [
    "import pandas as pd\n",
    "import numpy as np"
   ]
  },
  {
   "cell_type": "markdown",
   "id": "65e322bb-ad28-415e-a229-e60550d6f2b8",
   "metadata": {},
   "source": [
    "# How to drop column where missing values are above a threshold (may be 80% of the data) in pandas?"
   ]
  },
  {
   "cell_type": "code",
   "execution_count": 5,
   "id": "803eda07-44b5-46fb-acc3-90af1d7d82d7",
   "metadata": {},
   "outputs": [],
   "source": [
    "df = pd.DataFrame(np.random.choice([2,np.nan], (20, 5), p=[0.2, 0.8]), columns=list('abcde'))"
   ]
  },
  {
   "cell_type": "code",
   "execution_count": 12,
   "id": "66d3c903-e148-4c6a-a3b5-0825ac7a969e",
   "metadata": {},
   "outputs": [
    {
     "data": {
      "text/html": [
       "<div>\n",
       "<style scoped>\n",
       "    .dataframe tbody tr th:only-of-type {\n",
       "        vertical-align: middle;\n",
       "    }\n",
       "\n",
       "    .dataframe tbody tr th {\n",
       "        vertical-align: top;\n",
       "    }\n",
       "\n",
       "    .dataframe thead th {\n",
       "        text-align: right;\n",
       "    }\n",
       "</style>\n",
       "<table border=\"1\" class=\"dataframe\">\n",
       "  <thead>\n",
       "    <tr style=\"text-align: right;\">\n",
       "      <th></th>\n",
       "      <th>a</th>\n",
       "      <th>b</th>\n",
       "      <th>c</th>\n",
       "      <th>d</th>\n",
       "      <th>e</th>\n",
       "    </tr>\n",
       "  </thead>\n",
       "  <tbody>\n",
       "    <tr>\n",
       "      <th>0</th>\n",
       "      <td>NaN</td>\n",
       "      <td>NaN</td>\n",
       "      <td>NaN</td>\n",
       "      <td>NaN</td>\n",
       "      <td>NaN</td>\n",
       "    </tr>\n",
       "    <tr>\n",
       "      <th>1</th>\n",
       "      <td>2.0</td>\n",
       "      <td>NaN</td>\n",
       "      <td>2.0</td>\n",
       "      <td>NaN</td>\n",
       "      <td>NaN</td>\n",
       "    </tr>\n",
       "    <tr>\n",
       "      <th>2</th>\n",
       "      <td>2.0</td>\n",
       "      <td>2.0</td>\n",
       "      <td>NaN</td>\n",
       "      <td>NaN</td>\n",
       "      <td>2.0</td>\n",
       "    </tr>\n",
       "    <tr>\n",
       "      <th>3</th>\n",
       "      <td>NaN</td>\n",
       "      <td>NaN</td>\n",
       "      <td>NaN</td>\n",
       "      <td>NaN</td>\n",
       "      <td>NaN</td>\n",
       "    </tr>\n",
       "    <tr>\n",
       "      <th>4</th>\n",
       "      <td>2.0</td>\n",
       "      <td>NaN</td>\n",
       "      <td>NaN</td>\n",
       "      <td>NaN</td>\n",
       "      <td>NaN</td>\n",
       "    </tr>\n",
       "    <tr>\n",
       "      <th>5</th>\n",
       "      <td>2.0</td>\n",
       "      <td>2.0</td>\n",
       "      <td>NaN</td>\n",
       "      <td>NaN</td>\n",
       "      <td>NaN</td>\n",
       "    </tr>\n",
       "    <tr>\n",
       "      <th>6</th>\n",
       "      <td>NaN</td>\n",
       "      <td>NaN</td>\n",
       "      <td>NaN</td>\n",
       "      <td>NaN</td>\n",
       "      <td>2.0</td>\n",
       "    </tr>\n",
       "    <tr>\n",
       "      <th>7</th>\n",
       "      <td>2.0</td>\n",
       "      <td>NaN</td>\n",
       "      <td>2.0</td>\n",
       "      <td>NaN</td>\n",
       "      <td>2.0</td>\n",
       "    </tr>\n",
       "    <tr>\n",
       "      <th>8</th>\n",
       "      <td>NaN</td>\n",
       "      <td>NaN</td>\n",
       "      <td>NaN</td>\n",
       "      <td>NaN</td>\n",
       "      <td>NaN</td>\n",
       "    </tr>\n",
       "    <tr>\n",
       "      <th>9</th>\n",
       "      <td>NaN</td>\n",
       "      <td>NaN</td>\n",
       "      <td>NaN</td>\n",
       "      <td>NaN</td>\n",
       "      <td>NaN</td>\n",
       "    </tr>\n",
       "    <tr>\n",
       "      <th>10</th>\n",
       "      <td>NaN</td>\n",
       "      <td>2.0</td>\n",
       "      <td>2.0</td>\n",
       "      <td>NaN</td>\n",
       "      <td>NaN</td>\n",
       "    </tr>\n",
       "    <tr>\n",
       "      <th>11</th>\n",
       "      <td>NaN</td>\n",
       "      <td>NaN</td>\n",
       "      <td>NaN</td>\n",
       "      <td>NaN</td>\n",
       "      <td>NaN</td>\n",
       "    </tr>\n",
       "    <tr>\n",
       "      <th>12</th>\n",
       "      <td>NaN</td>\n",
       "      <td>NaN</td>\n",
       "      <td>NaN</td>\n",
       "      <td>NaN</td>\n",
       "      <td>2.0</td>\n",
       "    </tr>\n",
       "    <tr>\n",
       "      <th>13</th>\n",
       "      <td>2.0</td>\n",
       "      <td>2.0</td>\n",
       "      <td>NaN</td>\n",
       "      <td>NaN</td>\n",
       "      <td>NaN</td>\n",
       "    </tr>\n",
       "    <tr>\n",
       "      <th>14</th>\n",
       "      <td>NaN</td>\n",
       "      <td>2.0</td>\n",
       "      <td>NaN</td>\n",
       "      <td>NaN</td>\n",
       "      <td>NaN</td>\n",
       "    </tr>\n",
       "    <tr>\n",
       "      <th>15</th>\n",
       "      <td>NaN</td>\n",
       "      <td>NaN</td>\n",
       "      <td>NaN</td>\n",
       "      <td>NaN</td>\n",
       "      <td>NaN</td>\n",
       "    </tr>\n",
       "    <tr>\n",
       "      <th>16</th>\n",
       "      <td>NaN</td>\n",
       "      <td>NaN</td>\n",
       "      <td>2.0</td>\n",
       "      <td>NaN</td>\n",
       "      <td>NaN</td>\n",
       "    </tr>\n",
       "    <tr>\n",
       "      <th>17</th>\n",
       "      <td>2.0</td>\n",
       "      <td>2.0</td>\n",
       "      <td>2.0</td>\n",
       "      <td>NaN</td>\n",
       "      <td>NaN</td>\n",
       "    </tr>\n",
       "    <tr>\n",
       "      <th>18</th>\n",
       "      <td>NaN</td>\n",
       "      <td>2.0</td>\n",
       "      <td>NaN</td>\n",
       "      <td>NaN</td>\n",
       "      <td>2.0</td>\n",
       "    </tr>\n",
       "    <tr>\n",
       "      <th>19</th>\n",
       "      <td>NaN</td>\n",
       "      <td>NaN</td>\n",
       "      <td>NaN</td>\n",
       "      <td>NaN</td>\n",
       "      <td>2.0</td>\n",
       "    </tr>\n",
       "  </tbody>\n",
       "</table>\n",
       "</div>"
      ],
      "text/plain": [
       "      a    b    c   d    e\n",
       "0   NaN  NaN  NaN NaN  NaN\n",
       "1   2.0  NaN  2.0 NaN  NaN\n",
       "2   2.0  2.0  NaN NaN  2.0\n",
       "3   NaN  NaN  NaN NaN  NaN\n",
       "4   2.0  NaN  NaN NaN  NaN\n",
       "5   2.0  2.0  NaN NaN  NaN\n",
       "6   NaN  NaN  NaN NaN  2.0\n",
       "7   2.0  NaN  2.0 NaN  2.0\n",
       "8   NaN  NaN  NaN NaN  NaN\n",
       "9   NaN  NaN  NaN NaN  NaN\n",
       "10  NaN  2.0  2.0 NaN  NaN\n",
       "11  NaN  NaN  NaN NaN  NaN\n",
       "12  NaN  NaN  NaN NaN  2.0\n",
       "13  2.0  2.0  NaN NaN  NaN\n",
       "14  NaN  2.0  NaN NaN  NaN\n",
       "15  NaN  NaN  NaN NaN  NaN\n",
       "16  NaN  NaN  2.0 NaN  NaN\n",
       "17  2.0  2.0  2.0 NaN  NaN\n",
       "18  NaN  2.0  NaN NaN  2.0\n",
       "19  NaN  NaN  NaN NaN  2.0"
      ]
     },
     "execution_count": 12,
     "metadata": {},
     "output_type": "execute_result"
    }
   ],
   "source": [
    "df"
   ]
  },
  {
   "cell_type": "code",
   "execution_count": 55,
   "id": "e0032acd-56b4-4c20-8000-b431e67d2690",
   "metadata": {},
   "outputs": [],
   "source": [
    "missing_count = df.isnull().sum()/len(df)"
   ]
  },
  {
   "cell_type": "code",
   "execution_count": 56,
   "id": "aed6d00c-f924-4291-9ebb-04b5c2dc0b14",
   "metadata": {},
   "outputs": [
    {
     "data": {
      "text/plain": [
       "a    0.65\n",
       "b    0.65\n",
       "c    0.75\n",
       "d    1.00\n",
       "e    0.70\n",
       "dtype: float64"
      ]
     },
     "execution_count": 56,
     "metadata": {},
     "output_type": "execute_result"
    }
   ],
   "source": [
    "missing_count"
   ]
  },
  {
   "cell_type": "code",
   "execution_count": 24,
   "id": "dfaa1d20-6973-4980-ad7e-add6dec125de",
   "metadata": {},
   "outputs": [],
   "source": [
    "missing_count.columns = ['columns', '%_of_missing']"
   ]
  },
  {
   "cell_type": "code",
   "execution_count": 26,
   "id": "90a9ae60-db93-4d3a-884f-61f161429872",
   "metadata": {},
   "outputs": [
    {
     "data": {
      "text/plain": [
       "a    65.0\n",
       "b    65.0\n",
       "c    75.0\n",
       "e    70.0\n",
       "dtype: float64"
      ]
     },
     "execution_count": 26,
     "metadata": {},
     "output_type": "execute_result"
    }
   ],
   "source": [
    "missing_count[missing_count<=80]"
   ]
  },
  {
   "cell_type": "code",
   "execution_count": 61,
   "id": "45c281e0-3c7e-44dc-8e5f-72f2ee534660",
   "metadata": {},
   "outputs": [
    {
     "data": {
      "text/plain": [
       "15.200000000000001"
      ]
     },
     "execution_count": 61,
     "metadata": {},
     "output_type": "execute_result"
    }
   ],
   "source": [
    "19*0.8"
   ]
  },
  {
   "cell_type": "code",
   "execution_count": 67,
   "id": "deed47d9-896f-4475-96ef-aa609c13151c",
   "metadata": {},
   "outputs": [],
   "source": [
    "# df.drop(columns=)"
   ]
  },
  {
   "cell_type": "code",
   "execution_count": 68,
   "id": "ae82e6df-38c9-4e35-8ac2-f50cfe71904f",
   "metadata": {},
   "outputs": [
    {
     "data": {
      "text/html": [
       "<div>\n",
       "<style scoped>\n",
       "    .dataframe tbody tr th:only-of-type {\n",
       "        vertical-align: middle;\n",
       "    }\n",
       "\n",
       "    .dataframe tbody tr th {\n",
       "        vertical-align: top;\n",
       "    }\n",
       "\n",
       "    .dataframe thead th {\n",
       "        text-align: right;\n",
       "    }\n",
       "</style>\n",
       "<table border=\"1\" class=\"dataframe\">\n",
       "  <thead>\n",
       "    <tr style=\"text-align: right;\">\n",
       "      <th></th>\n",
       "    </tr>\n",
       "  </thead>\n",
       "  <tbody>\n",
       "    <tr>\n",
       "      <th>0</th>\n",
       "    </tr>\n",
       "    <tr>\n",
       "      <th>1</th>\n",
       "    </tr>\n",
       "    <tr>\n",
       "      <th>2</th>\n",
       "    </tr>\n",
       "    <tr>\n",
       "      <th>3</th>\n",
       "    </tr>\n",
       "    <tr>\n",
       "      <th>4</th>\n",
       "    </tr>\n",
       "    <tr>\n",
       "      <th>5</th>\n",
       "    </tr>\n",
       "    <tr>\n",
       "      <th>6</th>\n",
       "    </tr>\n",
       "    <tr>\n",
       "      <th>7</th>\n",
       "    </tr>\n",
       "    <tr>\n",
       "      <th>8</th>\n",
       "    </tr>\n",
       "    <tr>\n",
       "      <th>9</th>\n",
       "    </tr>\n",
       "    <tr>\n",
       "      <th>10</th>\n",
       "    </tr>\n",
       "    <tr>\n",
       "      <th>11</th>\n",
       "    </tr>\n",
       "    <tr>\n",
       "      <th>12</th>\n",
       "    </tr>\n",
       "    <tr>\n",
       "      <th>13</th>\n",
       "    </tr>\n",
       "    <tr>\n",
       "      <th>14</th>\n",
       "    </tr>\n",
       "    <tr>\n",
       "      <th>15</th>\n",
       "    </tr>\n",
       "    <tr>\n",
       "      <th>16</th>\n",
       "    </tr>\n",
       "    <tr>\n",
       "      <th>17</th>\n",
       "    </tr>\n",
       "    <tr>\n",
       "      <th>18</th>\n",
       "    </tr>\n",
       "    <tr>\n",
       "      <th>19</th>\n",
       "    </tr>\n",
       "  </tbody>\n",
       "</table>\n",
       "</div>"
      ],
      "text/plain": [
       "Empty DataFrame\n",
       "Columns: []\n",
       "Index: [0, 1, 2, 3, 4, 5, 6, 7, 8, 9, 10, 11, 12, 13, 14, 15, 16, 17, 18, 19]"
      ]
     },
     "execution_count": 68,
     "metadata": {},
     "output_type": "execute_result"
    }
   ],
   "source": [
    "df.dropna(thresh=15 , axis=1)"
   ]
  },
  {
   "cell_type": "markdown",
   "id": "b8450c27-5e62-4101-a926-dbfb23838b7f",
   "metadata": {},
   "source": [
    "Problem 1:\n",
    "\n",
    " \n",
    "\n",
    "str1 = \"Beautiful Is Better Than Ugly\"\n",
    "\n",
    " \n",
    "\n",
    "Write a python script to organize letters in words more reasonably(using above string) - in an alphabetical order?\n",
    "\n",
    " \n",
    "\n",
    "Expected Output:  'aBefiltuu Is Beertt ahnT glUy'\n",
    "\n",
    " \n",
    "\n",
    " \n",
    "\n",
    "Problem 2:\n",
    "\n",
    " \n",
    "\n",
    "Write a python script to find all the numbers from 1 to 100 that contain 3 or 7 in them?\n",
    "\n",
    " \n",
    "\n",
    "Expected Output:\n",
    "\n",
    " \n",
    "\n",
    "[3, 7, 13, 17, 23, 27, 30, 31, 32, 33, 34, 35, 36, 37, 38, 39, 43, 47, 53, 57, 63, 67, 70, 71, 72, 73, 74, 75, 76, 77, 78, 79, 83, 87, 93, 97]\n",
    "\n",
    " \n",
    "\n",
    " \n",
    "\n",
    " \n",
    "\n",
    "Problems 3:\n",
    "\n",
    " \n",
    "\n",
    " \n",
    "\n",
    "Below json data is stored in a file, update the json data by Sorting the JSON data in alphabetical order of keys\n",
    "\n",
    " \n",
    "\n",
    "sampleJson = {\"id\" : 1, \"name\" : \"value2\", \"age\" : 29}\n",
    "\n",
    " \n",
    "\n",
    "EXPECTED OUTPUT\n",
    "\n",
    " \n",
    "\n",
    "{\n",
    "\n",
    "    \"age\": 29,\n",
    "\n",
    "    \"id\": 1,\n",
    "\n",
    "    \"name\": \"value2\"\n",
    "\n",
    "}\n",
    "\n",
    " \n",
    "\n",
    " \n",
    "\n",
    "Problem 4:\n",
    "\n",
    " \n",
    "\n",
    "def div(a,b):\n",
    "\n",
    "\treturn a/b\n",
    "\n",
    " \n",
    "\n",
    " \n",
    "\n",
    "Write a decorator if a<b then swap the arguments?"
   ]
  },
  {
   "cell_type": "code",
   "execution_count": 75,
   "id": "f4bd1334-1b76-4cfb-a626-28cb3fcab273",
   "metadata": {},
   "outputs": [
    {
     "data": {
      "text/plain": [
       "'aBefiltuu Is Beertt ahnT glUy'"
      ]
     },
     "execution_count": 75,
     "metadata": {},
     "output_type": "execute_result"
    }
   ],
   "source": [
    "# Problem 1:\n",
    "str1 = \"Beautiful Is Better Than Ugly\"\n",
    "organized_words = []\n",
    "words = str1.split()\n",
    "for word in words:\n",
    "    organized_word = ''.join(sorted(word, key=lambda x: x.lower()))\n",
    "    organized_words.append(organized_word)\n",
    "\n",
    "    result_str = ' '.join(organized_words)\n",
    "result_str"
   ]
  },
  {
   "cell_type": "code",
   "execution_count": null,
   "id": "059ee918-dd09-4741-a04e-02fbb3194f49",
   "metadata": {},
   "outputs": [],
   "source": []
  },
  {
   "cell_type": "code",
   "execution_count": 76,
   "id": "df423622-bc39-4e08-91dd-5adbbee7704f",
   "metadata": {},
   "outputs": [
    {
     "name": "stdout",
     "output_type": "stream",
     "text": [
      "[3, 7, 13, 17, 23, 27, 30, 31, 32, 33, 34, 35, 36, 37, 38, 39, 43, 47, 53, 57, 63, 67, 70, 71, 72, 73, 74, 75, 76, 77, 78, 79, 83, 87, 93, 97]\n"
     ]
    }
   ],
   "source": [
    "# Problem 2:\n",
    "lst = []\n",
    "for i in range(1,101):\n",
    "    if ('3' in str(i)) or ('7' in str(i)):\n",
    "        lst.append(i)\n",
    "print(lst)"
   ]
  },
  {
   "cell_type": "code",
   "execution_count": 91,
   "id": "c9c5b76a-de47-4081-a800-813649f81b33",
   "metadata": {},
   "outputs": [
    {
     "data": {
      "text/plain": [
       "{'age': 29, 'id': 1, 'name': 'value2'}"
      ]
     },
     "execution_count": 91,
     "metadata": {},
     "output_type": "execute_result"
    }
   ],
   "source": [
    "# Problems 3:\n",
    "\n",
    "#Below json data is stored in a file, update the json data by Sorting the JSON data in alphabetical order of keys\n",
    "\n",
    "sampleJson = {\"id\" : 1, \"name\" : \"value2\", \"age\" : 29}\n",
    "\n",
    "#EXPECTED OUTPUT\n",
    "\n",
    "{\n",
    "\n",
    "\"age\": 29,\n",
    "\n",
    "\"id\": 1,\n",
    "\n",
    "\"name\": \"value2\"\n",
    "}\n"
   ]
  },
  {
   "cell_type": "code",
   "execution_count": 98,
   "id": "e84d0e13-fecd-4779-8d8e-689aeedb1bb5",
   "metadata": {},
   "outputs": [
    {
     "data": {
      "text/plain": [
       "[{'age': 29, 'id': 1, 'name': 'value2'}]"
      ]
     },
     "execution_count": 98,
     "metadata": {},
     "output_type": "execute_result"
    }
   ],
   "source": [
    "[{key: sampleJson[key] for key in sorted(sampleJson)}]"
   ]
  },
  {
   "cell_type": "code",
   "execution_count": 99,
   "id": "667266a3-bc70-4a89-83e3-9e0158bbf6a6",
   "metadata": {},
   "outputs": [],
   "source": [
    "#Problem 4:\n",
    "\n",
    "# def div(a,b):\n",
    "\n",
    "# return a/b\n",
    "# Write a decorator if a<b then swap the arguments?"
   ]
  },
  {
   "cell_type": "code",
   "execution_count": 102,
   "id": "23dab6cd-731a-48e3-8acf-4e3e77f258b7",
   "metadata": {},
   "outputs": [
    {
     "name": "stdout",
     "output_type": "stream",
     "text": [
      "0.5\n",
      "0.5\n"
     ]
    }
   ],
   "source": [
    "def argument_swap_decorator(func):\n",
    "    def wrapper(a, b):\n",
    "        if a > b:\n",
    "            a, b = b, a  # Swap the arguments\n",
    "\n",
    "        return func(a, b)\n",
    "\n",
    "    return wrapper\n",
    "\n",
    "@argument_swap_decorator\n",
    "def div(a, b):\n",
    "    return a / b\n",
    "\n",
    "\n",
    "# Example usage\n",
    "result = div(4, 8)\n",
    "print(result)  # Output: 2.0\n",
    "\n",
    "result = div(8, 4)\n",
    "print(result)  # Output: 0.5"
   ]
  },
  {
   "cell_type": "code",
   "execution_count": null,
   "id": "343dd0e1-9033-4c58-b89d-58b699ad1ba5",
   "metadata": {},
   "outputs": [],
   "source": []
  }
 ],
 "metadata": {
  "kernelspec": {
   "display_name": "Python 3",
   "language": "python",
   "name": "python3"
  },
  "language_info": {
   "codemirror_mode": {
    "name": "ipython",
    "version": 3
   },
   "file_extension": ".py",
   "mimetype": "text/x-python",
   "name": "python",
   "nbconvert_exporter": "python",
   "pygments_lexer": "ipython3",
   "version": "3.8.12"
  }
 },
 "nbformat": 4,
 "nbformat_minor": 5
}
